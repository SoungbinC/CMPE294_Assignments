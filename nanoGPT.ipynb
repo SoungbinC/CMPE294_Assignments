{
  "nbformat": 4,
  "nbformat_minor": 0,
  "metadata": {
    "colab": {
      "provenance": [],
      "authorship_tag": "ABX9TyOxvLHQdIl5UxXeVnwI6y7l",
      "include_colab_link": true
    },
    "kernelspec": {
      "name": "python3",
      "display_name": "Python 3"
    },
    "language_info": {
      "name": "python"
    }
  },
  "cells": [
    {
      "cell_type": "markdown",
      "metadata": {
        "id": "view-in-github",
        "colab_type": "text"
      },
      "source": [
        "<a href=\"https://colab.research.google.com/github/SoungbinC/CMPE294_Assignments/blob/Assignment_Transformer/nanoGPT.ipynb\" target=\"_parent\"><img src=\"https://colab.research.google.com/assets/colab-badge.svg\" alt=\"Open In Colab\"/></a>"
      ]
    },
    {
      "cell_type": "markdown",
      "source": [
        "#Topic: Building nanogpt from scratch"
      ],
      "metadata": {
        "id": "gajJohPCqWhV"
      }
    },
    {
      "cell_type": "code",
      "execution_count": 15,
      "metadata": {
        "colab": {
          "base_uri": "https://localhost:8080/"
        },
        "id": "yQDG6A_NqS43",
        "outputId": "41c473a6-003c-42e8-c5f1-4b958a3593a3"
      },
      "outputs": [
        {
          "output_type": "stream",
          "name": "stdout",
          "text": [
            "--2024-12-03 10:14:56--  https://gutenberg.net.au/ebooks02/0200041.txt\n",
            "Resolving gutenberg.net.au (gutenberg.net.au)... 203.210.102.143\n",
            "Connecting to gutenberg.net.au (gutenberg.net.au)|203.210.102.143|:443... connected.\n",
            "HTTP request sent, awaiting response... 200 OK\n",
            "Length: 269691 (263K) [text/plain]\n",
            "Saving to: ‘gatsby.txt’\n",
            "\n",
            "gatsby.txt          100%[===================>] 263.37K   315KB/s    in 0.8s    \n",
            "\n",
            "2024-12-03 10:14:58 (315 KB/s) - ‘gatsby.txt’ saved [269691/269691]\n",
            "\n"
          ]
        }
      ],
      "source": [
        "# We always start with a dataset to train on. Let's download the tiny shakespeare dataset\n",
        "!wget https://gutenberg.net.au/ebooks02/0200041.txt -O gatsby.txt"
      ]
    },
    {
      "cell_type": "markdown",
      "source": [
        "## Download sample"
      ],
      "metadata": {
        "id": "--z8QtV8q5Qw"
      }
    },
    {
      "cell_type": "code",
      "source": [
        "# read it in to inspect it\n",
        "with open('gatsby.txt', 'r', encoding='utf-8', errors='ignore') as f:\n",
        "    text = f.read()\n"
      ],
      "metadata": {
        "id": "xv3-obdFqo_b"
      },
      "execution_count": 18,
      "outputs": []
    },
    {
      "cell_type": "code",
      "source": [
        "# Improved cleaning with proper space handling\n",
        "# Remove non-relevant sections before \"Chapter 1\"\n",
        "start_index = text.find('Chapter 1')\n",
        "if start_index == -1:\n",
        "    raise ValueError(\"Could not find the start of the book ('Chapter 1') in the text.\")\n",
        "\n",
        "cleaned_text = text[start_index:]  # Extract from \"Chapter 1\" onwards\n",
        "\n",
        "# Additional cleaning\n",
        "# Normalize spaces and ensure proper formatting\n",
        "import re\n",
        "cleaned_text = re.sub(r'\\s+', ' ', cleaned_text)  # Replace multiple spaces/newlines with a single space\n",
        "cleaned_text = re.sub(r'chapter\\s+\\d+', lambda x: x.group(0).capitalize() + \"\\n\\n\", cleaned_text)  # Format \"Chapter X\"\n",
        "\n",
        "# Strip leading and trailing whitespace\n",
        "cleaned_text = cleaned_text.strip()\n",
        "\n",
        "# Save cleaned text to a file (optional)\n",
        "with open('gatsby_cleaned.txt', 'w', encoding='utf-8') as f:\n",
        "    f.write(cleaned_text)\n",
        "\n",
        "# Preview cleaned text\n",
        "print(cleaned_text[:500])  # Print the first 500 characters for inspection\n"
      ],
      "metadata": {
        "colab": {
          "base_uri": "https://localhost:8080/"
        },
        "id": "9PgFSCK3qssX",
        "outputId": "b8e021dd-998f-43b1-d603-a78f6e74bf86"
      },
      "execution_count": 21,
      "outputs": [
        {
          "output_type": "stream",
          "name": "stdout",
          "text": [
            "Chapter 1 In my younger and more vulnerable years my father gave me some advice that I've been turning over in my mind ever since. \"Whenever you feel like criticizing any one,\" he told me, \"just remember that all the people in this world haven't had the advantages that you've had.\" He didn't say any more but we've always been unusually communicative in a reserved way, and I understood that he meant a great deal more than that. In consequence I'm inclined to reserve all judgments, a habit that ha\n"
          ]
        }
      ]
    },
    {
      "cell_type": "markdown",
      "source": [
        "## Set up hypermeters"
      ],
      "metadata": {
        "id": "kY7qOx3nv_7v"
      }
    },
    {
      "cell_type": "code",
      "source": [
        "# hyperparameters\n",
        "batch_size = 16 # how many independent sequences will we process in parallel?\n",
        "block_size = 32 # what is the maximum context length for predictions?\n",
        "max_iters = 5000\n",
        "eval_interval = 100\n",
        "learning_rate = 1e-3\n",
        "device = 'cuda' if torch.cuda.is_available() else 'cpu'\n",
        "eval_iters = 200\n",
        "n_embd = 64\n",
        "n_head = 4\n",
        "n_layer = 4\n",
        "dropout = 0.0\n",
        "# ------------\n",
        "\n",
        "torch.manual_seed(1337)"
      ],
      "metadata": {
        "colab": {
          "base_uri": "https://localhost:8080/"
        },
        "id": "EVkfQ7KDwFBL",
        "outputId": "11eb30b1-f9a1-493f-fd89-f339b09632aa"
      },
      "execution_count": 8,
      "outputs": [
        {
          "output_type": "execute_result",
          "data": {
            "text/plain": [
              "<torch._C.Generator at 0x7828260e8870>"
            ]
          },
          "metadata": {},
          "execution_count": 8
        }
      ]
    },
    {
      "cell_type": "markdown",
      "source": [
        "## Tokenize text"
      ],
      "metadata": {
        "id": "YuxQ4gwTq7jG"
      }
    },
    {
      "cell_type": "code",
      "source": [
        "chars = sorted(list(set(cleaned_text)))\n",
        "vocab_size = len(chars)\n",
        "\n",
        "stoi = {ch: i for i, ch in enumerate(chars)}\n",
        "itos = {i: ch for i, ch in enumerate(chars)}\n",
        "\n",
        "encode = lambda s: [stoi[c] for c in s]  # String to integers\n",
        "decode = lambda l: ''.join([itos[i] for i in l])  # Integers to string\n",
        "\n",
        "# Convert the cleaned text to a tensor\n",
        "data = torch.tensor(encode(cleaned_text), dtype=torch.long)\n",
        "\n",
        "# Split into training and validation sets\n",
        "n = int(0.9 * len(data))  # 90% training, 10% validation\n",
        "train_data = data[:n]\n",
        "val_data = data[n:]"
      ],
      "metadata": {
        "id": "xywSPT6Sq-F3"
      },
      "execution_count": 22,
      "outputs": []
    },
    {
      "cell_type": "markdown",
      "source": [
        "## Train and test set"
      ],
      "metadata": {
        "id": "j7x2BKvLvgrz"
      }
    },
    {
      "cell_type": "code",
      "source": [
        "# Train and test splits\n",
        "data = torch.tensor(encode(cleaned_text), dtype=torch.long)\n",
        "n = int(0.9*len(data)) # first 90% will be train, rest val\n",
        "train_data = data[:n]\n",
        "val_data = data[n:]"
      ],
      "metadata": {
        "id": "SUfvuzRTvjA0"
      },
      "execution_count": 7,
      "outputs": []
    },
    {
      "cell_type": "markdown",
      "source": [
        "## loading data"
      ],
      "metadata": {
        "id": "cYhJyGrqvzKm"
      }
    },
    {
      "cell_type": "code",
      "source": [
        "import torch\n",
        "import torch.nn as nn\n",
        "from torch.nn import functional as F\n",
        "\n",
        "# data loading\n",
        "def get_batch(split):\n",
        "    # generate a small batch of data of inputs x and targets y\n",
        "    data = train_data if split == 'train' else val_data\n",
        "    ix = torch.randint(len(data) - block_size, (batch_size,))\n",
        "    x = torch.stack([data[i:i+block_size] for i in ix])\n",
        "    y = torch.stack([data[i+1:i+block_size+1] for i in ix])\n",
        "    x, y = x.to(device), y.to(device)\n",
        "    return x, y\n",
        "\n",
        "\n",
        "@torch.no_grad()\n",
        "def estimate_loss():\n",
        "    out = {}\n",
        "    model.eval()\n",
        "    for split in ['train', 'val']:\n",
        "        losses = torch.zeros(eval_iters)\n",
        "        for k in range(eval_iters):\n",
        "            X, Y = get_batch(split)\n",
        "            logits, loss = model(X, Y)\n",
        "            losses[k] = loss.item()\n",
        "        out[split] = losses.mean()\n",
        "    model.train()\n",
        "    return out\n",
        "\n",
        "class Head(nn.Module):\n",
        "    \"\"\" one head of self-attention \"\"\"\n",
        "\n",
        "    def __init__(self, head_size):\n",
        "        super().__init__()\n",
        "        self.key = nn.Linear(n_embd, head_size, bias=False)\n",
        "        self.query = nn.Linear(n_embd, head_size, bias=False)\n",
        "        self.value = nn.Linear(n_embd, head_size, bias=False)\n",
        "        self.register_buffer('tril', torch.tril(torch.ones(block_size, block_size)))\n",
        "\n",
        "        self.dropout = nn.Dropout(dropout)\n",
        "\n",
        "    def forward(self, x):\n",
        "        B,T,C = x.shape\n",
        "        k = self.key(x)   # (B,T,C)\n",
        "        q = self.query(x) # (B,T,C)\n",
        "        # compute attention scores (\"affinities\")\n",
        "        wei = q @ k.transpose(-2,-1) * C**-0.5 # (B, T, C) @ (B, C, T) -> (B, T, T)\n",
        "        wei = wei.masked_fill(self.tril[:T, :T] == 0, float('-inf')) # (B, T, T)\n",
        "        wei = F.softmax(wei, dim=-1) # (B, T, T)\n",
        "        wei = self.dropout(wei)\n",
        "        # perform the weighted aggregation of the values\n",
        "        v = self.value(x) # (B,T,C)\n",
        "        out = wei @ v # (B, T, T) @ (B, T, C) -> (B, T, C)\n",
        "        return out\n",
        "\n",
        "class MultiHeadAttention(nn.Module):\n",
        "    \"\"\" multiple heads of self-attention in parallel \"\"\"\n",
        "\n",
        "    def __init__(self, num_heads, head_size):\n",
        "        super().__init__()\n",
        "        self.heads = nn.ModuleList([Head(head_size) for _ in range(num_heads)])\n",
        "        self.proj = nn.Linear(n_embd, n_embd)\n",
        "        self.dropout = nn.Dropout(dropout)\n",
        "\n",
        "    def forward(self, x):\n",
        "        out = torch.cat([h(x) for h in self.heads], dim=-1)\n",
        "        out = self.dropout(self.proj(out))\n",
        "        return out\n",
        "\n",
        "class FeedFoward(nn.Module):\n",
        "    \"\"\" a simple linear layer followed by a non-linearity \"\"\"\n",
        "\n",
        "    def __init__(self, n_embd):\n",
        "        super().__init__()\n",
        "        self.net = nn.Sequential(\n",
        "            nn.Linear(n_embd, 4 * n_embd),\n",
        "            nn.ReLU(),\n",
        "            nn.Linear(4 * n_embd, n_embd),\n",
        "            nn.Dropout(dropout),\n",
        "        )\n",
        "\n",
        "    def forward(self, x):\n",
        "        return self.net(x)\n",
        "\n",
        "class Block(nn.Module):\n",
        "    \"\"\" Transformer block: communication followed by computation \"\"\"\n",
        "\n",
        "    def __init__(self, n_embd, n_head):\n",
        "        # n_embd: embedding dimension, n_head: the number of heads we'd like\n",
        "        super().__init__()\n",
        "        head_size = n_embd // n_head\n",
        "        self.sa = MultiHeadAttention(n_head, head_size)\n",
        "        self.ffwd = FeedFoward(n_embd)\n",
        "        self.ln1 = nn.LayerNorm(n_embd)\n",
        "        self.ln2 = nn.LayerNorm(n_embd)\n",
        "\n",
        "    def forward(self, x):\n",
        "        x = x + self.sa(self.ln1(x))\n",
        "        x = x + self.ffwd(self.ln2(x))\n",
        "        return x\n",
        "\n",
        "\n",
        "\n",
        "# super simple bigram model\n",
        "class BigramLanguageModel(nn.Module):\n",
        "\n",
        "    def __init__(self):\n",
        "        super().__init__()\n",
        "        # each token directly reads off the logits for the next token from a lookup table\n",
        "        self.token_embedding_table = nn.Embedding(vocab_size, n_embd)\n",
        "        self.position_embedding_table = nn.Embedding(block_size, n_embd)\n",
        "        self.blocks = nn.Sequential(*[Block(n_embd, n_head=n_head) for _ in range(n_layer)])\n",
        "        self.ln_f = nn.LayerNorm(n_embd) # final layer norm\n",
        "        self.lm_head = nn.Linear(n_embd, vocab_size)\n",
        "\n",
        "    def forward(self, idx, targets=None):\n",
        "        B, T = idx.shape\n",
        "\n",
        "        # idx and targets are both (B,T) tensor of integers\n",
        "        tok_emb = self.token_embedding_table(idx) # (B,T,C)\n",
        "        pos_emb = self.position_embedding_table(torch.arange(T, device=device)) # (T,C)\n",
        "        x = tok_emb + pos_emb # (B,T,C)\n",
        "        x = self.blocks(x) # (B,T,C)\n",
        "        x = self.ln_f(x) # (B,T,C)\n",
        "        logits = self.lm_head(x) # (B,T,vocab_size)\n",
        "\n",
        "        if targets is None:\n",
        "            loss = None\n",
        "        else:\n",
        "            B, T, C = logits.shape\n",
        "            logits = logits.view(B*T, C)\n",
        "            targets = targets.view(B*T)\n",
        "            loss = F.cross_entropy(logits, targets)\n",
        "\n",
        "        return logits, loss\n",
        "\n",
        "    def generate(self, idx, max_new_tokens):\n",
        "        # idx is (B, T) array of indices in the current context\n",
        "        for _ in range(max_new_tokens):\n",
        "            # crop idx to the last block_size tokens\n",
        "            idx_cond = idx[:, -block_size:]\n",
        "            # get the predictions\n",
        "            logits, loss = self(idx_cond)\n",
        "            # focus only on the last time step\n",
        "            logits = logits[:, -1, :] # becomes (B, C)\n",
        "            # apply softmax to get probabilities\n",
        "            probs = F.softmax(logits, dim=-1) # (B, C)\n",
        "            # sample from the distribution\n",
        "            idx_next = torch.multinomial(probs, num_samples=1) # (B, 1)\n",
        "            # append sampled index to the running sequence\n",
        "            idx = torch.cat((idx, idx_next), dim=1) # (B, T+1)\n",
        "        return idx\n",
        "\n",
        "model = BigramLanguageModel()\n",
        "m = model.to(device)"
      ],
      "metadata": {
        "id": "fMNoHTTuv0xX"
      },
      "execution_count": 23,
      "outputs": []
    },
    {
      "cell_type": "code",
      "source": [
        "print(sum(p.numel() for p in m.parameters())/1e6, 'M parameters')\n",
        "\n",
        "# create a PyTorch optimizer\n",
        "optimizer = torch.optim.AdamW(model.parameters(), lr=learning_rate)\n",
        "\n",
        "for iter in range(max_iters):\n",
        "\n",
        "    # every once in a while evaluate the loss on train and val sets\n",
        "    if iter % eval_interval == 0 or iter == max_iters - 1:\n",
        "        losses = estimate_loss()\n",
        "        print(f\"step {iter}: train loss {losses['train']:.4f}, val loss {losses['val']:.4f}\")\n",
        "\n",
        "    # sample a batch of data\n",
        "    xb, yb = get_batch('train')\n",
        "\n",
        "    # evaluate the loss\n",
        "    logits, loss = model(xb, yb)\n",
        "    optimizer.zero_grad(set_to_none=True)\n",
        "    loss.backward()\n",
        "    optimizer.step()\n",
        "\n",
        "# generate from the model\n",
        "context = torch.zeros((1, 1), dtype=torch.long, device=device)\n",
        "print(decode(m.generate(context, max_new_tokens=2000)[0].tolist()))"
      ],
      "metadata": {
        "colab": {
          "base_uri": "https://localhost:8080/"
        },
        "id": "x_7_lqc33Ccr",
        "outputId": "f34f6244-b03f-4a68-a3d6-45aed6eee1f2"
      },
      "execution_count": 24,
      "outputs": [
        {
          "output_type": "stream",
          "name": "stdout",
          "text": [
            "0.211277 M parameters\n",
            "step 0: train loss 4.6030, val loss 4.6064\n",
            "step 100: train loss 2.6151, val loss 2.6157\n",
            "step 200: train loss 2.4845, val loss 2.5025\n",
            "step 300: train loss 2.4032, val loss 2.4245\n",
            "step 400: train loss 2.3168, val loss 2.3130\n",
            "step 500: train loss 2.2365, val loss 2.2545\n",
            "step 600: train loss 2.1741, val loss 2.1964\n",
            "step 700: train loss 2.1142, val loss 2.1301\n",
            "step 800: train loss 2.0737, val loss 2.0910\n",
            "step 900: train loss 2.0174, val loss 2.0362\n",
            "step 1000: train loss 1.9736, val loss 2.0073\n",
            "step 1100: train loss 1.9432, val loss 1.9751\n",
            "step 1200: train loss 1.9173, val loss 1.9321\n",
            "step 1300: train loss 1.8864, val loss 1.9094\n",
            "step 1400: train loss 1.8779, val loss 1.9053\n",
            "step 1500: train loss 1.8430, val loss 1.8800\n",
            "step 1600: train loss 1.8243, val loss 1.8589\n",
            "step 1700: train loss 1.8009, val loss 1.8341\n",
            "step 1800: train loss 1.7812, val loss 1.8155\n",
            "step 1900: train loss 1.7865, val loss 1.8147\n",
            "step 2000: train loss 1.7622, val loss 1.8125\n",
            "step 2100: train loss 1.7414, val loss 1.7947\n",
            "step 2200: train loss 1.7302, val loss 1.7791\n",
            "step 2300: train loss 1.7210, val loss 1.7640\n",
            "step 2400: train loss 1.7118, val loss 1.7545\n",
            "step 2500: train loss 1.6972, val loss 1.7459\n",
            "step 2600: train loss 1.6911, val loss 1.7375\n",
            "step 2700: train loss 1.6758, val loss 1.7368\n",
            "step 2800: train loss 1.6658, val loss 1.7205\n",
            "step 2900: train loss 1.6549, val loss 1.7206\n",
            "step 3000: train loss 1.6598, val loss 1.7299\n",
            "step 3100: train loss 1.6530, val loss 1.7091\n",
            "step 3200: train loss 1.6360, val loss 1.7042\n",
            "step 3300: train loss 1.6301, val loss 1.7126\n",
            "step 3400: train loss 1.6212, val loss 1.6856\n",
            "step 3500: train loss 1.6139, val loss 1.6951\n",
            "step 3600: train loss 1.6086, val loss 1.6772\n",
            "step 3700: train loss 1.5898, val loss 1.6662\n",
            "step 3800: train loss 1.5929, val loss 1.6693\n",
            "step 3900: train loss 1.5978, val loss 1.6628\n",
            "step 4000: train loss 1.5672, val loss 1.6764\n",
            "step 4100: train loss 1.5753, val loss 1.6730\n",
            "step 4200: train loss 1.5698, val loss 1.6617\n",
            "step 4300: train loss 1.5718, val loss 1.6668\n",
            "step 4400: train loss 1.5720, val loss 1.6579\n",
            "step 4500: train loss 1.5486, val loss 1.6517\n",
            "step 4600: train loss 1.5454, val loss 1.6508\n",
            "step 4700: train loss 1.5397, val loss 1.6481\n",
            "step 4800: train loss 1.5371, val loss 1.6563\n",
            "step 4900: train loss 1.5353, val loss 1.6521\n",
            "step 4999: train loss 1.5347, val loss 1.6265\n",
            " Mr, Gad. How lived around took I wanted suindo look hadn't have Fort,\" said Daisy inseened doess drown with I intown. intiting godate a moment, actor Poing out, yought open-On the door bech: She in out of the fathundagan out violow nerver, but had namanty. \"I antemord laced lating attoon and like a foctheat upon a home onced nerve, sauggesting find ass, ning-my abritting a doneth of that she legan, spot but was his one horn was face, only of even stard patarty. You alone. The cold, and bluch, a few weard udinfind day forward down lables porchentling town.\" Affered at his attion dies, of my just as she fiticting lawn cared from the preccess!ent through four darkently her of the can police,-Gatas, My sat--appon winker alried hour. Nathine becausetted your which a mle whose had costrol greally a fell boags more more a little word saw over and she thpoing to and line slalent?\" said in corsencing of dark famine, and year not. Pood don.\" Gathbe old. \"It happen was saw the I didn't eason, got of you nequest to her aluzin haven. \"An liedic, and Genders's would five ying me force began old by cager, unfinitinge. But becaudiation forward interedcontictars, in after of my osceal len, narined but th hart I remard the more but of formines\" of armulous into womket to a dozred Tom was lock!\" \"Wit he, sunded his cried Yol juss eated intemptaired to hotimes. I noind out threement rainetof the troughtling I was watcheres from Tom. Coken talked commons laved anything undenisly, and baxish with to halls extencented a name and lost of a comrook went, as couchen her mass indeased upon and the sprensitations alone would aglinecuponealy, as Tom untreductante the electional corned while gettanching to man he stayed, for the younrce---as the darrass winduding sittle nervalizes in his though get and pool, over togetood couch and doldince the light,\" said--misementionsed to doubfer storn man was though on sendating in nozed one was Gatsby's some two flow and the kit Affronent of a swiress deli\n"
          ]
        }
      ]
    }
  ]
}